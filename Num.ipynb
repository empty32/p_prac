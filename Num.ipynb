import random
times = 3
guess = 0
secret = random.randint(1,10)
print("不妨猜一下小甲鱼现在心里想的是哪个数字：", end=" ")
while times:
    temp = input()
    times-=1
    while not temp.isdigit():
        temp = input("抱歉，输入有误，请重新输入：")   
    guess = int(temp)
    if guess == secret:
        print("猜对了")
    else:
        if guess > secret:
            print("哥，大了大了")
        else:
            print("哥,小了小了")
        if times > 0:
            print('再猜一次吧')
        else:
            print('猜测机会用完了')
print('游戏结束')
